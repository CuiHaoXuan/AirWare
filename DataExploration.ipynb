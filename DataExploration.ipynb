{
 "cells": [
  {
   "cell_type": "markdown",
   "metadata": {},
   "source": [
    "# Data Exploration using Spectogram visualizations"
   ]
  },
  {
   "cell_type": "code",
   "execution_count": 1,
   "metadata": {
    "collapsed": true
   },
   "outputs": [],
   "source": [
    "from os import listdir\n",
    "from os.path import isfile, join\n",
    "import numpy as np\n",
    "import matplotlib.pyplot as plt\n",
    "%matplotlib inline\n",
    "from sklearn.preprocessing import LabelEncoder\n",
    "from scipy import signal\n",
    "\n",
    "from data import Read_Data"
   ]
  },
  {
   "cell_type": "code",
   "execution_count": 2,
   "metadata": {
    "scrolled": false
   },
   "outputs": [
    {
     "name": "stdout",
     "output_type": "stream",
     "text": [
      "Collecting data for User:  1\n",
      "Skipping files\n",
      "Skipping files\n",
      "Skipping files\n",
      "Skipping files\n",
      "Skipping files\n",
      "Collecting data for User:  2\n",
      "Skipping files\n",
      "Skipping files\n",
      "Skipping files\n",
      "Skipping files\n",
      "Skipping files\n",
      "Skipping files\n",
      "Skipping files\n",
      "Skipping files\n",
      "Skipping files\n",
      "Skipping files\n",
      "Collecting data for User:  3\n",
      "Skipping files\n",
      "Skipping files\n",
      "Skipping files\n",
      "Skipping files\n",
      "Collecting data for User:  4\n",
      "Skipping files\n",
      "Skipping files\n",
      "Skipping files\n",
      "Skipping files\n",
      "Skipping files\n",
      "Skipping files\n",
      "Skipping files\n",
      "Skipping files\n",
      "Skipping files\n",
      "Skipping files\n",
      "Skipping files\n",
      "Skipping files\n",
      "Skipping files\n",
      "Skipping files\n",
      "Skipping files\n",
      "Skipping files\n",
      "Skipping files\n",
      "Skipping files\n",
      "Skipping files\n",
      "Skipping files\n",
      "Skipping files\n",
      "Skipping files\n",
      "Skipping files\n",
      "Skipping files\n",
      "Skipping files\n",
      "Skipping files\n",
      "Skipping files\n",
      "Skipping files\n",
      "Skipping files\n",
      "Skipping files\n",
      "Skipping files\n",
      "Skipping files\n",
      "Skipping files\n",
      "Skipping files\n",
      "Skipping files\n",
      "Skipping files\n",
      "Collecting data for User:  5\n",
      "Skipping files\n",
      "Skipping files\n",
      "Skipping files\n",
      "Skipping files\n",
      "Skipping files\n",
      "Skipping files\n",
      "Skipping files\n",
      "Skipping files\n",
      "Skipping files\n",
      "Skipping files\n",
      "Skipping files\n",
      "Skipping files\n",
      "Skipping files\n",
      "Skipping files\n",
      "Collecting data for User:  6\n",
      "Skipping files\n",
      "Skipping files\n",
      "Skipping files\n",
      "Skipping files\n",
      "Skipping files\n",
      "Skipping files\n",
      "Skipping files\n",
      "Skipping files\n",
      "Skipping files\n",
      "Skipping files\n",
      "Skipping files\n",
      "Skipping files\n",
      "Skipping files\n",
      "Collecting data for User:  8\n",
      "Skipping files\n",
      "Skipping files\n",
      "Skipping files\n",
      "Skipping files\n",
      "Skipping files\n",
      "Skipping files\n",
      "Skipping files\n",
      "Skipping files\n",
      "Skipping files\n",
      "Skipping files\n",
      "Skipping files\n",
      "Skipping files\n",
      "Skipping files\n",
      "Skipping files\n",
      "Skipping files\n",
      "Skipping files\n",
      "Skipping files\n",
      "Collecting data for User:  10\n",
      "Skipping files\n",
      "Skipping files\n",
      "Skipping files\n",
      "Skipping files\n",
      "Skipping files\n",
      "Skipping files\n",
      "Collecting data for User:  11\n",
      "Skipping files\n",
      "Skipping files\n",
      "Skipping files\n",
      "Skipping files\n",
      "Skipping files\n",
      "Skipping files\n",
      "Skipping files\n",
      "Collecting data for User:  12\n",
      "Skipping files\n",
      "Skipping files\n",
      "Skipping files\n",
      "Skipping files\n",
      "Skipping files\n",
      "Skipping files\n",
      "Skipping files\n",
      "Skipping files\n",
      "Skipping files\n",
      "Skipping files\n",
      "Skipping files\n",
      "Skipping files\n",
      "Skipping files\n",
      "Collecting data for User:  13\n",
      "Skipping files\n",
      "Skipping files\n",
      "Skipping files\n",
      "Skipping files\n",
      "Skipping files\n",
      "Skipping files\n",
      "Skipping files\n",
      "Skipping files\n",
      "Skipping files\n",
      "Skipping files\n",
      "Skipping files\n",
      "Skipping files\n",
      "Skipping files\n",
      "Skipping files\n",
      "Skipping files\n",
      "Skipping files\n",
      "Skipping files\n",
      "Skipping files\n",
      "Skipping files\n",
      "Skipping files\n",
      "Skipping files\n",
      "Collecting data for User:  15\n",
      "Skipping files\n",
      "Skipping files\n",
      "Skipping files\n",
      "Skipping files\n",
      "Skipping files\n",
      "Skipping files\n",
      "Skipping files\n",
      "Skipping files\n",
      "Skipping files\n",
      "Skipping files\n",
      "Collecting data for User:  16\n",
      "Skipping files\n",
      "Skipping files\n",
      "Skipping files\n",
      "Skipping files\n",
      "Skipping files\n",
      "Skipping files\n",
      "Skipping files\n",
      "Skipping files\n",
      "Skipping files\n",
      "Skipping files\n",
      "Skipping files\n",
      "Skipping files\n",
      "Skipping files\n",
      "Skipping files\n",
      "Skipping files\n",
      "Skipping files\n",
      "Skipping files\n",
      "Skipping files\n"
     ]
    }
   ],
   "source": [
    "gd = Read_Data.GestureData()\n",
    "features = gd.compile_data(nfft=4096, overlap=0.5, brange=8, keras_format=False, plot_spectogram=True, baseline_format=False,\n",
    "                          verbose=1)"
   ]
  },
  {
   "cell_type": "code",
   "execution_count": 3,
   "metadata": {
    "scrolled": true
   },
   "outputs": [
    {
     "data": {
      "application/vnd.jupyter.widget-view+json": {
       "model_id": "f626f38e25054337a4818927dc64519b"
      }
     },
     "metadata": {},
     "output_type": "display_data"
    },
    {
     "data": {
      "text/plain": [
       "<function __main__.make_plot>"
      ]
     },
     "execution_count": 3,
     "metadata": {},
     "output_type": "execute_result"
    }
   ],
   "source": [
    "from ipywidgets import interact\n",
    "def make_plot(idx):\n",
    "    plt.pcolormesh(features[idx]['features'])\n",
    "    plt.title(str(features[idx]['user'])+' '+features[idx]['name'])\n",
    "    plt.show()\n",
    "    \n",
    "interact(make_plot,idx=(0,len(features)-1,1),__manual=True)"
   ]
  },
  {
   "cell_type": "code",
   "execution_count": 4,
   "metadata": {},
   "outputs": [
    {
     "data": {
      "text/plain": [
       "1404"
      ]
     },
     "execution_count": 4,
     "metadata": {},
     "output_type": "execute_result"
    }
   ],
   "source": [
    "len(features)"
   ]
  },
  {
   "cell_type": "markdown",
   "metadata": {
    "collapsed": true
   },
   "source": [
    "# Class distribution"
   ]
  },
  {
   "cell_type": "code",
   "execution_count": 5,
   "metadata": {},
   "outputs": [
    {
     "name": "stdout",
     "output_type": "stream",
     "text": [
      "Collecting data for User:  1\n",
      "Collecting data for User:  2\n",
      "Collecting data for User:  3\n",
      "Collecting data for User:  4\n",
      "Collecting data for User:  5\n",
      "Collecting data for User:  6\n",
      "Collecting data for User:  8\n",
      "Collecting data for User:  10\n",
      "Collecting data for User:  11\n",
      "Collecting data for User:  12\n",
      "Collecting data for User:  13\n",
      "Collecting data for User:  15\n",
      "Collecting data for User:  16\n",
      "\n",
      "Input shape:(1404, 70, 32, 1)\n",
      "\n",
      "Labels shape:(1404, 1)\n",
      "Number of classes:  21\n"
     ]
    }
   ],
   "source": [
    "x, y, user, input_shape, lab_enc = gd.compile_data(nfft=4096, overlap=0.5,\n",
    "                                                   brange=16, keras_format=True,\n",
    "                                                   plot_spectogram=False,\n",
    "                                                   baseline_format=False)"
   ]
  },
  {
   "cell_type": "code",
   "execution_count": 6,
   "metadata": {
    "collapsed": true
   },
   "outputs": [],
   "source": [
    "temp_y = y.reshape(-1)"
   ]
  },
  {
   "cell_type": "code",
   "execution_count": 7,
   "metadata": {
    "collapsed": true
   },
   "outputs": [],
   "source": [
    "gesture_count=[]\n",
    "for item in np.unique(user):\n",
    "    idx = np.where(user==item)[0]\n",
    "    y_user = temp_y[idx]\n",
    "    gesture_count.append(np.bincount(y_user))"
   ]
  },
  {
   "cell_type": "code",
   "execution_count": 8,
   "metadata": {},
   "outputs": [
    {
     "data": {
      "text/plain": [
       "<matplotlib.legend.Legend at 0x28140c200f0>"
      ]
     },
     "execution_count": 8,
     "metadata": {},
     "output_type": "execute_result"
    },
    {
     "data": {
      "image/png": "[encoded data removed]",
      "text/plain": [
       "<matplotlib.figure.Figure at 0x28142c7bf98>"
      ]
     },
     "metadata": {},
     "output_type": "display_data"
    }
   ],
   "source": [
    "import pandas as pd\n",
    "df = pd.DataFrame(gesture_count).T\n",
    "df.plot(kind='bar', stacked=True, legend=False, figsize=(20, 8), title=\"Class distribution across users\")\n",
    "plt.legend(loc='center left', bbox_to_anchor=(1, 0.5))"
   ]
  },
  {
   "cell_type": "code",
   "execution_count": 9,
   "metadata": {},
   "outputs": [
    {
     "data": {
      "text/plain": [
       "0.0071225071225071226"
      ]
     },
     "execution_count": 9,
     "metadata": {},
     "output_type": "execute_result"
    }
   ],
   "source": [
    "np.max(gesture_count)/np.sum(gesture_count)"
   ]
  },
  {
   "cell_type": "code",
   "execution_count": 19,
   "metadata": {},
   "outputs": [
    {
     "data": {
      "text/plain": [
       "0.053418803418803416"
      ]
     },
     "execution_count": 19,
     "metadata": {},
     "output_type": "execute_result"
    }
   ],
   "source": [
    "np.max(np.sum(gesture_count, axis=0)/np.sum(gesture_count))"
   ]
  },
  {
   "cell_type": "code",
   "execution_count": 10,
   "metadata": {},
   "outputs": [
    {
     "data": {
      "text/html": [
       "<div>\n",
       "<style>\n",
       "    .dataframe thead tr:only-child th {\n",
       "        text-align: right;\n",
       "    }\n",
       "\n",
       "    .dataframe thead th {\n",
       "        text-align: left;\n",
       "    }\n",
       "\n",
       "    .dataframe tbody tr th {\n",
       "        vertical-align: top;\n",
       "    }\n",
       "</style>\n",
       "<table border=\"1\" class=\"dataframe\">\n",
       "  <thead>\n",
       "    <tr style=\"text-align: right;\">\n",
       "      <th></th>\n",
       "      <th>0</th>\n",
       "      <th>1</th>\n",
       "      <th>2</th>\n",
       "      <th>3</th>\n",
       "      <th>4</th>\n",
       "      <th>5</th>\n",
       "      <th>6</th>\n",
       "      <th>7</th>\n",
       "      <th>8</th>\n",
       "      <th>9</th>\n",
       "      <th>...</th>\n",
       "      <th>11</th>\n",
       "      <th>12</th>\n",
       "      <th>13</th>\n",
       "      <th>14</th>\n",
       "      <th>15</th>\n",
       "      <th>16</th>\n",
       "      <th>17</th>\n",
       "      <th>18</th>\n",
       "      <th>19</th>\n",
       "      <th>20</th>\n",
       "    </tr>\n",
       "  </thead>\n",
       "  <tbody>\n",
       "    <tr>\n",
       "      <th>0</th>\n",
       "      <td>3</td>\n",
       "      <td>3</td>\n",
       "      <td>3</td>\n",
       "      <td>3</td>\n",
       "      <td>3</td>\n",
       "      <td>3</td>\n",
       "      <td>3</td>\n",
       "      <td>3</td>\n",
       "      <td>3</td>\n",
       "      <td>3</td>\n",
       "      <td>...</td>\n",
       "      <td>3</td>\n",
       "      <td>3</td>\n",
       "      <td>2</td>\n",
       "      <td>0</td>\n",
       "      <td>2</td>\n",
       "      <td>3</td>\n",
       "      <td>3</td>\n",
       "      <td>3</td>\n",
       "      <td>3</td>\n",
       "      <td>3</td>\n",
       "    </tr>\n",
       "    <tr>\n",
       "      <th>1</th>\n",
       "      <td>5</td>\n",
       "      <td>5</td>\n",
       "      <td>5</td>\n",
       "      <td>5</td>\n",
       "      <td>3</td>\n",
       "      <td>5</td>\n",
       "      <td>2</td>\n",
       "      <td>3</td>\n",
       "      <td>4</td>\n",
       "      <td>5</td>\n",
       "      <td>...</td>\n",
       "      <td>5</td>\n",
       "      <td>5</td>\n",
       "      <td>5</td>\n",
       "      <td>4</td>\n",
       "      <td>4</td>\n",
       "      <td>5</td>\n",
       "      <td>5</td>\n",
       "      <td>5</td>\n",
       "      <td>5</td>\n",
       "      <td>5</td>\n",
       "    </tr>\n",
       "    <tr>\n",
       "      <th>2</th>\n",
       "      <td>5</td>\n",
       "      <td>5</td>\n",
       "      <td>5</td>\n",
       "      <td>5</td>\n",
       "      <td>5</td>\n",
       "      <td>4</td>\n",
       "      <td>4</td>\n",
       "      <td>5</td>\n",
       "      <td>5</td>\n",
       "      <td>5</td>\n",
       "      <td>...</td>\n",
       "      <td>4</td>\n",
       "      <td>5</td>\n",
       "      <td>5</td>\n",
       "      <td>5</td>\n",
       "      <td>4</td>\n",
       "      <td>5</td>\n",
       "      <td>5</td>\n",
       "      <td>5</td>\n",
       "      <td>5</td>\n",
       "      <td>5</td>\n",
       "    </tr>\n",
       "    <tr>\n",
       "      <th>3</th>\n",
       "      <td>10</td>\n",
       "      <td>10</td>\n",
       "      <td>10</td>\n",
       "      <td>10</td>\n",
       "      <td>10</td>\n",
       "      <td>6</td>\n",
       "      <td>7</td>\n",
       "      <td>8</td>\n",
       "      <td>5</td>\n",
       "      <td>10</td>\n",
       "      <td>...</td>\n",
       "      <td>10</td>\n",
       "      <td>10</td>\n",
       "      <td>4</td>\n",
       "      <td>2</td>\n",
       "      <td>8</td>\n",
       "      <td>10</td>\n",
       "      <td>10</td>\n",
       "      <td>10</td>\n",
       "      <td>10</td>\n",
       "      <td>10</td>\n",
       "    </tr>\n",
       "    <tr>\n",
       "      <th>4</th>\n",
       "      <td>3</td>\n",
       "      <td>5</td>\n",
       "      <td>5</td>\n",
       "      <td>5</td>\n",
       "      <td>2</td>\n",
       "      <td>5</td>\n",
       "      <td>4</td>\n",
       "      <td>4</td>\n",
       "      <td>3</td>\n",
       "      <td>5</td>\n",
       "      <td>...</td>\n",
       "      <td>4</td>\n",
       "      <td>4</td>\n",
       "      <td>4</td>\n",
       "      <td>3</td>\n",
       "      <td>5</td>\n",
       "      <td>5</td>\n",
       "      <td>5</td>\n",
       "      <td>5</td>\n",
       "      <td>5</td>\n",
       "      <td>5</td>\n",
       "    </tr>\n",
       "  </tbody>\n",
       "</table>\n",
       "<p>5 rows × 21 columns</p>\n",
       "</div>"
      ],
      "text/plain": [
       "   0   1   2   3   4   5   6   7   8   9  ...  11  12  13  14  15  16  17  18  \\\n",
       "0   3   3   3   3   3   3   3   3   3   3 ...   3   3   2   0   2   3   3   3   \n",
       "1   5   5   5   5   3   5   2   3   4   5 ...   5   5   5   4   4   5   5   5   \n",
       "2   5   5   5   5   5   4   4   5   5   5 ...   4   5   5   5   4   5   5   5   \n",
       "3  10  10  10  10  10   6   7   8   5  10 ...  10  10   4   2   8  10  10  10   \n",
       "4   3   5   5   5   2   5   4   4   3   5 ...   4   4   4   3   5   5   5   5   \n",
       "\n",
       "   19  20  \n",
       "0   3   3  \n",
       "1   5   5  \n",
       "2   5   5  \n",
       "3  10  10  \n",
       "4   5   5  \n",
       "\n",
       "[5 rows x 21 columns]"
      ]
     },
     "execution_count": 10,
     "metadata": {},
     "output_type": "execute_result"
    }
   ],
   "source": [
    "temp = pd.DataFrame(gesture_count)\n",
    "temp.head()"
   ]
  },
  {
   "cell_type": "code",
   "execution_count": 11,
   "metadata": {},
   "outputs": [
    {
     "data": {
      "text/plain": [
       "27"
      ]
     },
     "execution_count": 11,
     "metadata": {},
     "output_type": "execute_result"
    }
   ],
   "source": [
    "temp.columns = lab_enc.classes_\n",
    "np.sum(temp['slicel'])"
   ]
  },
  {
   "cell_type": "code",
   "execution_count": null,
   "metadata": {
    "collapsed": true
   },
   "outputs": [],
   "source": []
  },
  {
   "cell_type": "code",
   "execution_count": 30,
   "metadata": {
    "scrolled": true
   },
   "outputs": [
    {
     "name": "stdout",
     "output_type": "stream",
     "text": [
      "\n",
      "User:  1\n",
      "Training:  (1346, 70, 32, 1)\n",
      "Testing:  (58, 70, 32, 1)\n",
      "Fold: 0\n",
      "Stratified Shuffle split is not possible\n",
      "(1346, 1)\n",
      "(5, 1)\n",
      "New Training:  (1351, 70, 32, 1)\n",
      "New Testing:  (53, 70, 32, 1)\n",
      "Fold: 1\n",
      "Stratified Shuffle split is not possible\n",
      "(1351, 1)\n",
      "(5, 1)\n",
      "New Training:  (1356, 70, 32, 1)\n",
      "New Testing:  (53, 70, 32, 1)\n",
      "\n",
      "User:  2\n",
      "Training:  (1309, 70, 32, 1)\n",
      "Testing:  (95, 70, 32, 1)\n",
      "Fold: 0\n",
      "Stratified Shuffle split is not possible\n",
      "(1309, 1)\n",
      "(9, 1)\n",
      "New Training:  (1318, 70, 32, 1)\n",
      "New Testing:  (86, 70, 32, 1)\n",
      "Fold: 1\n",
      "Stratified Shuffle split is not possible\n",
      "(1318, 1)\n",
      "(9, 1)\n",
      "New Training:  (1327, 70, 32, 1)\n",
      "New Testing:  (86, 70, 32, 1)\n",
      "\n",
      "User:  3\n",
      "Training:  (1303, 70, 32, 1)\n",
      "Testing:  (101, 70, 32, 1)\n",
      "Fold: 0\n",
      "Stratified Shuffle split is not possible\n",
      "(1303, 1)\n",
      "(10, 1)\n",
      "New Training:  (1313, 70, 32, 1)\n",
      "New Testing:  (91, 70, 32, 1)\n",
      "Fold: 1\n",
      "Stratified Shuffle split is not possible\n",
      "(1313, 1)\n",
      "(10, 1)\n",
      "New Training:  (1323, 70, 32, 1)\n",
      "New Testing:  (91, 70, 32, 1)\n",
      "\n",
      "User:  4\n",
      "Training:  (1230, 70, 32, 1)\n",
      "Testing:  (174, 70, 32, 1)\n",
      "Fold: 0\n",
      "Stratified Shuffle split is not possible\n",
      "(1230, 1)\n",
      "(17, 1)\n",
      "New Training:  (1247, 70, 32, 1)\n",
      "New Testing:  (157, 70, 32, 1)\n",
      "Fold: 1\n",
      "Stratified Shuffle split is not possible\n",
      "(1247, 1)\n",
      "(17, 1)\n",
      "New Training:  (1264, 70, 32, 1)\n",
      "New Testing:  (157, 70, 32, 1)\n",
      "\n",
      "User:  5\n",
      "Training:  (1313, 70, 32, 1)\n",
      "Testing:  (91, 70, 32, 1)\n",
      "Fold: 0\n",
      "Stratified Shuffle split is not possible\n",
      "(1313, 1)\n",
      "(9, 1)\n",
      "New Training:  (1322, 70, 32, 1)\n",
      "New Testing:  (82, 70, 32, 1)\n",
      "Fold: 1\n",
      "Stratified Shuffle split is not possible\n",
      "(1322, 1)\n",
      "(9, 1)\n",
      "New Training:  (1331, 70, 32, 1)\n",
      "New Testing:  (82, 70, 32, 1)\n",
      "\n",
      "User:  6\n",
      "Training:  (1270, 70, 32, 1)\n",
      "Testing:  (134, 70, 32, 1)\n",
      "Fold: 0\n",
      "Stratified Shuffle split is not possible\n",
      "(1270, 1)\n",
      "(13, 1)\n",
      "New Training:  (1283, 70, 32, 1)\n",
      "New Testing:  (121, 70, 32, 1)\n",
      "Fold: 1\n",
      "Stratified Shuffle split is not possible\n",
      "(1283, 1)\n",
      "(13, 1)\n",
      "New Training:  (1296, 70, 32, 1)\n",
      "New Testing:  (121, 70, 32, 1)\n",
      "\n",
      "User:  8\n",
      "Training:  (1337, 70, 32, 1)\n",
      "Testing:  (67, 70, 32, 1)\n",
      "Fold: 0\n",
      "Stratified Shuffle split is not possible\n",
      "(1337, 1)\n",
      "(6, 1)\n",
      "New Training:  (1343, 70, 32, 1)\n",
      "New Testing:  (61, 70, 32, 1)\n",
      "Fold: 1\n",
      "Stratified Shuffle split is not possible\n",
      "(1343, 1)\n",
      "(6, 1)\n",
      "New Training:  (1349, 70, 32, 1)\n",
      "New Testing:  (61, 70, 32, 1)\n",
      "\n",
      "User:  10\n",
      "Training:  (1309, 70, 32, 1)\n",
      "Testing:  (95, 70, 32, 1)\n",
      "Fold: 0\n",
      "Stratified Shuffle split is not possible\n",
      "(1309, 1)\n",
      "(9, 1)\n",
      "New Training:  (1318, 70, 32, 1)\n",
      "New Testing:  (86, 70, 32, 1)\n",
      "Fold: 1\n",
      "Stratified Shuffle split is not possible\n",
      "(1318, 1)\n",
      "(9, 1)\n",
      "New Training:  (1327, 70, 32, 1)\n",
      "New Testing:  (86, 70, 32, 1)\n",
      "\n",
      "User:  11\n",
      "Training:  (1306, 70, 32, 1)\n",
      "Testing:  (98, 70, 32, 1)\n",
      "Fold: 0\n",
      "Stratified Shuffle split is not possible\n",
      "(1306, 1)\n",
      "(9, 1)\n",
      "New Training:  (1315, 70, 32, 1)\n",
      "New Testing:  (89, 70, 32, 1)\n",
      "Fold: 1\n",
      "Stratified Shuffle split is not possible\n",
      "(1315, 1)\n",
      "(9, 1)\n",
      "New Training:  (1324, 70, 32, 1)\n",
      "New Testing:  (89, 70, 32, 1)\n",
      "\n",
      "User:  12\n",
      "Training:  (1304, 70, 32, 1)\n",
      "Testing:  (100, 70, 32, 1)\n",
      "Fold: 0\n",
      "Stratified Shuffle split is not possible\n",
      "(1304, 1)\n",
      "(10, 1)\n",
      "New Training:  (1314, 70, 32, 1)\n",
      "New Testing:  (90, 70, 32, 1)\n",
      "Fold: 1\n",
      "Stratified Shuffle split is not possible\n",
      "(1314, 1)\n",
      "(10, 1)\n",
      "New Training:  (1324, 70, 32, 1)\n",
      "New Testing:  (90, 70, 32, 1)\n",
      "\n",
      "User:  13\n",
      "Training:  (1271, 70, 32, 1)\n",
      "Testing:  (133, 70, 32, 1)\n",
      "Fold: 0\n",
      "Stratified Shuffle split is not possible\n",
      "(1271, 1)\n",
      "(13, 1)\n",
      "New Training:  (1284, 70, 32, 1)\n",
      "New Testing:  (120, 70, 32, 1)\n",
      "Fold: 1\n",
      "Stratified Shuffle split is not possible\n",
      "(1284, 1)\n",
      "(13, 1)\n",
      "New Training:  (1297, 70, 32, 1)\n",
      "New Testing:  (120, 70, 32, 1)\n",
      "\n",
      "User:  15\n",
      "Training:  (1304, 70, 32, 1)\n",
      "Testing:  (100, 70, 32, 1)\n",
      "Fold: 0\n",
      "Stratified Shuffle split is not possible\n",
      "(1304, 1)\n",
      "(10, 1)\n",
      "New Training:  (1314, 70, 32, 1)\n",
      "New Testing:  (90, 70, 32, 1)\n",
      "Fold: 1\n",
      "Stratified Shuffle split is not possible\n",
      "(1314, 1)\n",
      "(10, 1)\n",
      "New Training:  (1324, 70, 32, 1)\n",
      "New Testing:  (90, 70, 32, 1)\n",
      "\n",
      "User:  16\n",
      "Training:  (1246, 70, 32, 1)\n",
      "Testing:  (158, 70, 32, 1)\n",
      "Fold: 0\n",
      "Stratified Shuffle split is not possible\n",
      "(1246, 1)\n",
      "(15, 1)\n",
      "New Training:  (1261, 70, 32, 1)\n",
      "New Testing:  (143, 70, 32, 1)\n",
      "Fold: 1\n",
      "Stratified Shuffle split is not possible\n",
      "(1261, 1)\n",
      "(15, 1)\n",
      "New Training:  (1276, 70, 32, 1)\n",
      "New Testing:  (143, 70, 32, 1)\n"
     ]
    }
   ],
   "source": [
    "from sklearn.model_selection import LeaveOneGroupOut, train_test_split\n",
    "\n",
    "def strat_shuffle_split(x, y, split=0.3, random_state=12345):\n",
    "    try:\n",
    "        x_add_train, x_test, y_add_train, y_test = train_test_split(x,y,train_size=split, stratify=y)\n",
    "    except ValueError:\n",
    "        print(\"Stratified Shuffle split is not possible\")\n",
    "        x_add_train, x_test, y_add_train, y_test = train_test_split(x,y,train_size=split)\n",
    "    return x_add_train, x_test, y_add_train, y_test\n",
    "\n",
    "logo = LeaveOneGroupOut()\n",
    "for train_idx, test_idx in logo.split(x, y, user):\n",
    "    print(\"\\nUser: \", user[test_idx[0]])\n",
    "    x_train, y_train = x[train_idx, :, :, :], y[train_idx]\n",
    "    x_test, y_test = x[test_idx, :, :, :], y[test_idx]\n",
    "    print(\"Training: \", x_train.shape)\n",
    "    print(\"Testing: \", x_test.shape)\n",
    "    for j in range(2):\n",
    "        print(\"Fold:\", j)\n",
    "        seed_gen = j * 200\n",
    "        # Split user test data - 60% added to the training data set\n",
    "        x_add, x_test_new, y_add, y_test_new = strat_shuffle_split(x_test, y_test, split=0.1, random_state=seed_gen)\n",
    "        \n",
    "        print(y_train.shape)\n",
    "        print(y_add.shape)\n",
    "        \n",
    "        # Add additional training data to the original\n",
    "        x_train = np.vstack((x_train, x_add))\n",
    "        y_train = np.vstack((y_train, y_add))\n",
    "        \n",
    "        sort_idx = np.argsort(y_test_new.reshape(-1))\n",
    "        x_test_new = x_test_new[sort_idx, :, :, :]\n",
    "        y_test_new = y_test_new[sort_idx]\n",
    "        \n",
    "        print(\"New Training: \", x_train.shape)\n",
    "        print(\"New Testing: \", x_test_new.shape)"
   ]
  },
  {
   "cell_type": "code",
   "execution_count": 37,
   "metadata": {
    "collapsed": true
   },
   "outputs": [],
   "source": [
    "a =np.array([1,2,3,4]).reshape((-1,1))\n",
    "b = np.array([1,2,3,49,0]).reshape((-1,1))"
   ]
  },
  {
   "cell_type": "code",
   "execution_count": 38,
   "metadata": {},
   "outputs": [
    {
     "data": {
      "text/plain": [
       "array([[ 1],\n",
       "       [ 2],\n",
       "       [ 3],\n",
       "       [ 4],\n",
       "       [ 1],\n",
       "       [ 2],\n",
       "       [ 3],\n",
       "       [49],\n",
       "       [ 0]])"
      ]
     },
     "execution_count": 38,
     "metadata": {},
     "output_type": "execute_result"
    }
   ],
   "source": [
    "np.vstack((a,b))"
   ]
  },
  {
   "cell_type": "code",
   "execution_count": null,
   "metadata": {
    "collapsed": true
   },
   "outputs": [],
   "source": []
  }
 ],
 "metadata": {
  "kernelspec": {
   "display_name": "Python 3",
   "language": "python",
   "name": "python3"
  },
  "language_info": {
   "codemirror_mode": {
    "name": "ipython",
    "version": 3
   },
   "file_extension": ".py",
   "mimetype": "text/x-python",
   "name": "python",
   "nbconvert_exporter": "python",
   "pygments_lexer": "ipython3",
   "version": "3.5.2"
  },
  "toc": {
   "colors": {
    "hover_highlight": "#DAA520",
    "running_highlight": "#FF0000",
    "selected_highlight": "#FFD700"
   },
   "moveMenuLeft": true,
   "nav_menu": {
    "height": "12px",
    "width": "252px"
   },
   "navigate_menu": true,
   "number_sections": true,
   "sideBar": true,
   "threshold": 4,
   "toc_cell": false,
   "toc_section_display": "block",
   "toc_window_display": false
  }
 },
 "nbformat": 4,
 "nbformat_minor": 2
}
