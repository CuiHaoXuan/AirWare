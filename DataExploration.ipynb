{
 "cells": [
  {
   "cell_type": "markdown",
   "metadata": {},
   "source": [
    "# Data Exploration using Spectogram visualizations"
   ]
  },
  {
   "cell_type": "code",
   "execution_count": 1,
   "metadata": {
    "collapsed": true
   },
   "outputs": [],
   "source": [
    "from os import listdir\n",
    "from os.path import isfile, join\n",
    "import numpy as np\n",
    "import matplotlib.pyplot as plt\n",
    "%matplotlib inline\n",
    "from sklearn.preprocessing import LabelEncoder\n",
    "from scipy import signal\n",
    "\n",
    "from data import Read_Data"
   ]
  },
  {
   "cell_type": "code",
   "execution_count": 2,
   "metadata": {
    "scrolled": true
   },
   "outputs": [
    {
     "name": "stdout",
     "output_type": "stream",
     "text": [
      "Collecting data for User:  1\n",
      "Skipping files\n",
      "Skipping files\n",
      "Skipping files\n",
      "Skipping files\n",
      "Skipping files\n",
      "Collecting data for User:  2\n",
      "Skipping files\n",
      "Skipping files\n",
      "Skipping files\n",
      "Skipping files\n",
      "Skipping files\n",
      "Skipping files\n",
      "Skipping files\n",
      "Skipping files\n",
      "Skipping files\n",
      "Skipping files\n",
      "Collecting data for User:  3\n",
      "Skipping files\n",
      "Skipping files\n",
      "Skipping files\n",
      "Skipping files\n",
      "Collecting data for User:  4\n",
      "Skipping files\n",
      "Skipping files\n",
      "Skipping files\n",
      "Skipping files\n",
      "Skipping files\n",
      "Skipping files\n",
      "Skipping files\n",
      "Skipping files\n",
      "Skipping files\n",
      "Skipping files\n",
      "Skipping files\n",
      "Skipping files\n",
      "Skipping files\n",
      "Skipping files\n",
      "Skipping files\n",
      "Skipping files\n",
      "Skipping files\n",
      "Skipping files\n",
      "Skipping files\n",
      "Skipping files\n",
      "Skipping files\n",
      "Skipping files\n",
      "Skipping files\n",
      "Skipping files\n",
      "Skipping files\n",
      "Skipping files\n",
      "Skipping files\n",
      "Skipping files\n",
      "Skipping files\n",
      "Skipping files\n",
      "Skipping files\n",
      "Skipping files\n",
      "Skipping files\n",
      "Skipping files\n",
      "Skipping files\n",
      "Skipping files\n",
      "Collecting data for User:  5\n",
      "Skipping files\n",
      "Skipping files\n",
      "Skipping files\n",
      "Skipping files\n",
      "Skipping files\n",
      "Skipping files\n",
      "Skipping files\n",
      "Skipping files\n",
      "Skipping files\n",
      "Skipping files\n",
      "Skipping files\n",
      "Skipping files\n",
      "Skipping files\n",
      "Skipping files\n",
      "Collecting data for User:  6\n",
      "Skipping files\n",
      "Skipping files\n",
      "Skipping files\n",
      "Skipping files\n",
      "Skipping files\n",
      "Skipping files\n",
      "Skipping files\n",
      "Skipping files\n",
      "Skipping files\n",
      "Skipping files\n",
      "Skipping files\n",
      "Skipping files\n",
      "Skipping files\n",
      "Collecting data for User:  8\n",
      "Skipping files\n",
      "Skipping files\n",
      "Skipping files\n",
      "Skipping files\n",
      "Skipping files\n",
      "Skipping files\n",
      "Skipping files\n",
      "Skipping files\n",
      "Skipping files\n",
      "Skipping files\n",
      "Skipping files\n",
      "Skipping files\n",
      "Skipping files\n",
      "Skipping files\n",
      "Skipping files\n",
      "Skipping files\n",
      "Skipping files\n",
      "Collecting data for User:  10\n",
      "Skipping files\n",
      "Skipping files\n",
      "Skipping files\n",
      "Skipping files\n",
      "Skipping files\n",
      "Skipping files\n",
      "Collecting data for User:  11\n",
      "Skipping files\n",
      "Skipping files\n",
      "Skipping files\n",
      "Skipping files\n",
      "Skipping files\n",
      "Skipping files\n",
      "Skipping files\n",
      "Collecting data for User:  12\n",
      "Skipping files\n",
      "Skipping files\n",
      "Skipping files\n",
      "Skipping files\n",
      "Collecting data for User:  13\n",
      "Skipping files\n",
      "Skipping files\n",
      "Skipping files\n",
      "Skipping files\n",
      "Skipping files\n",
      "Skipping files\n",
      "Skipping files\n",
      "Skipping files\n",
      "Skipping files\n",
      "Collecting data for User:  14\n",
      "Skipping files\n",
      "Skipping files\n",
      "Skipping files\n",
      "Skipping files\n",
      "Skipping files\n",
      "Skipping files\n",
      "Skipping files\n",
      "Skipping files\n",
      "Skipping files\n",
      "Skipping files\n",
      "Skipping files\n",
      "Skipping files\n",
      "Skipping files\n",
      "Skipping files\n",
      "Skipping files\n",
      "Skipping files\n",
      "Skipping files\n",
      "Skipping files\n",
      "Skipping files\n",
      "Skipping files\n",
      "Skipping files\n",
      "Skipping files\n",
      "Collecting data for User:  15\n",
      "Skipping files\n",
      "Skipping files\n",
      "Skipping files\n",
      "Skipping files\n",
      "Skipping files\n",
      "Skipping files\n",
      "Skipping files\n",
      "Skipping files\n",
      "Skipping files\n",
      "Skipping files\n",
      "Skipping files\n",
      "Skipping files\n",
      "Skipping files\n",
      "Skipping files\n",
      "Collecting data for User:  16\n",
      "Skipping files\n",
      "Skipping files\n",
      "Skipping files\n",
      "Skipping files\n",
      "Skipping files\n",
      "Skipping files\n",
      "Skipping files\n",
      "Skipping files\n",
      "Skipping files\n",
      "Skipping files\n",
      "Collecting data for User:  17\n",
      "Skipping files\n",
      "Skipping files\n",
      "Skipping files\n",
      "Skipping files\n",
      "Skipping files\n",
      "Skipping files\n",
      "Skipping files\n",
      "Skipping files\n",
      "Skipping files\n",
      "Skipping files\n"
     ]
    }
   ],
   "source": [
    "gd = Read_Data.GestureData()\n",
    "features = gd.compile_data(nfft=4096, overlap=0.5, brange=8, keras_format=False, plot_spectogram=True, baseline_format=False)"
   ]
  },
  {
   "cell_type": "code",
   "execution_count": 3,
   "metadata": {
    "scrolled": true
   },
   "outputs": [
    {
     "data": {
      "application/vnd.jupyter.widget-view+json": {
       "model_id": "f2e54071bb17492eb5dd204a2ec04602"
      }
     },
     "metadata": {},
     "output_type": "display_data"
    },
    {
     "data": {
      "text/plain": [
       "<function __main__.make_plot>"
      ]
     },
     "execution_count": 3,
     "metadata": {},
     "output_type": "execute_result"
    }
   ],
   "source": [
    "from ipywidgets import interact\n",
    "def make_plot(idx):\n",
    "    plt.pcolormesh(features[idx]['features'])\n",
    "    plt.title(str(features[idx]['user'])+' '+features[idx]['name'])\n",
    "    plt.show()\n",
    "    \n",
    "interact(make_plot,idx=(0,len(features)-1,1),__manual=True)"
   ]
  },
  {
   "cell_type": "code",
   "execution_count": 4,
   "metadata": {},
   "outputs": [
    {
     "data": {
      "text/plain": [
       "1419"
      ]
     },
     "execution_count": 4,
     "metadata": {},
     "output_type": "execute_result"
    }
   ],
   "source": [
    "len(features)"
   ]
  },
  {
   "cell_type": "code",
   "execution_count": null,
   "metadata": {
    "collapsed": true
   },
   "outputs": [],
   "source": []
  }
 ],
 "metadata": {
  "kernelspec": {
   "display_name": "Python 3",
   "language": "python",
   "name": "python3"
  },
  "language_info": {
   "codemirror_mode": {
    "name": "ipython",
    "version": 3
   },
   "file_extension": ".py",
   "mimetype": "text/x-python",
   "name": "python",
   "nbconvert_exporter": "python",
   "pygments_lexer": "ipython3",
   "version": "3.5.2"
  },
  "toc": {
   "colors": {
    "hover_highlight": "#DAA520",
    "running_highlight": "#FF0000",
    "selected_highlight": "#FFD700"
   },
   "moveMenuLeft": true,
   "nav_menu": {
    "height": "12px",
    "width": "252px"
   },
   "navigate_menu": true,
   "number_sections": true,
   "sideBar": true,
   "threshold": 4,
   "toc_cell": false,
   "toc_section_display": "block",
   "toc_window_display": false
  }
 },
 "nbformat": 4,
 "nbformat_minor": 2
}
