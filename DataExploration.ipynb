{
 "cells": [
  {
   "cell_type": "markdown",
   "metadata": {},
   "source": [
    "# Data Exploration using Spectogram visualizations"
   ]
  },
  {
   "cell_type": "code",
   "execution_count": 1,
   "metadata": {
    "collapsed": true
   },
   "outputs": [],
   "source": [
    "from os import listdir\n",
    "from os.path import isfile, join\n",
    "import numpy as np\n",
    "import matplotlib.pyplot as plt\n",
    "%matplotlib inline\n",
    "from sklearn.preprocessing import LabelEncoder\n",
    "from scipy import signal\n",
    "\n",
    "from data import Read_Data"
   ]
  },
  {
   "cell_type": "code",
   "execution_count": 2,
   "metadata": {
    "scrolled": true
   },
   "outputs": [
    {
     "name": "stdout",
     "output_type": "stream",
     "text": [
      "Collecting data for User:  1\n",
      "Collecting data for User:  2\n",
      "Collecting data for User:  3\n",
      "Collecting data for User:  4\n",
      "Collecting data for User:  5\n",
      "Collecting data for User:  6\n",
      "Collecting data for User:  8\n",
      "Collecting data for User:  10\n",
      "Collecting data for User:  11\n",
      "Collecting data for User:  12\n",
      "Collecting data for User:  13\n",
      "Collecting data for User:  15\n"
     ]
    }
   ],
   "source": [
    "gd = Read_Data.GestureData()\n",
    "features = gd.compile_data(nfft=4096, overlap=0.5, brange=8, keras_format=False, plot_spectogram=True, baseline_format=False)"
   ]
  },
  {
   "cell_type": "code",
   "execution_count": 3,
   "metadata": {
    "scrolled": true
   },
   "outputs": [
    {
     "data": {
      "application/vnd.jupyter.widget-view+json": {
       "model_id": "c0a293c9aa1740ceb2391ab90941c11b"
      }
     },
     "metadata": {},
     "output_type": "display_data"
    },
    {
     "data": {
      "text/plain": [
       "<function __main__.make_plot>"
      ]
     },
     "execution_count": 3,
     "metadata": {},
     "output_type": "execute_result"
    }
   ],
   "source": [
    "from ipywidgets import interact\n",
    "def make_plot(idx):\n",
    "    plt.pcolormesh(features[idx]['features'])\n",
    "    plt.title(str(features[idx]['user'])+' '+features[idx]['name'])\n",
    "    plt.show()\n",
    "    \n",
    "interact(make_plot,idx=(0,len(features)-1,1),__manual=True)"
   ]
  },
  {
   "cell_type": "code",
   "execution_count": 4,
   "metadata": {},
   "outputs": [
    {
     "data": {
      "text/plain": [
       "1246"
      ]
     },
     "execution_count": 4,
     "metadata": {},
     "output_type": "execute_result"
    }
   ],
   "source": [
    "len(features)"
   ]
  },
  {
   "cell_type": "markdown",
   "metadata": {
    "collapsed": true
   },
   "source": [
    "# Class distribution"
   ]
  },
  {
   "cell_type": "code",
   "execution_count": 5,
   "metadata": {},
   "outputs": [
    {
     "name": "stdout",
     "output_type": "stream",
     "text": [
      "Collecting data for User:  1\n",
      "Collecting data for User:  2\n",
      "Collecting data for User:  3\n",
      "Collecting data for User:  4\n",
      "Collecting data for User:  5\n",
      "Collecting data for User:  6\n",
      "Collecting data for User:  8\n",
      "Collecting data for User:  10\n",
      "Collecting data for User:  11\n",
      "Collecting data for User:  12\n",
      "Collecting data for User:  13\n",
      "Collecting data for User:  15\n",
      "\n",
      "Input shape:(1246, 70, 32, 1)\n",
      "\n",
      "Labels shape:(1246, 1)\n",
      "Number of classes:  21\n"
     ]
    }
   ],
   "source": [
    "x, y, user, input_shape, lab_enc = gd.compile_data(nfft=4096, overlap=0.5,\n",
    "                                                   brange=16, keras_format=True,\n",
    "                                                   plot_spectogram=False,\n",
    "                                                   baseline_format=False)"
   ]
  },
  {
   "cell_type": "code",
   "execution_count": 6,
   "metadata": {},
   "outputs": [],
   "source": [
    "y = y.reshape(-1)"
   ]
  },
  {
   "cell_type": "code",
   "execution_count": 7,
   "metadata": {},
   "outputs": [],
   "source": [
    "gesture_count=[]\n",
    "for item in np.unique(user):\n",
    "    idx = np.where(user==item)[0]\n",
    "    y_user = y[idx]\n",
    "    gesture_count.append(np.bincount(y_user))"
   ]
  },
  {
   "cell_type": "code",
   "execution_count": 8,
   "metadata": {},
   "outputs": [
    {
     "data": {
      "text/plain": [
       "<matplotlib.legend.Legend at 0x1288fdf69b0>"
      ]
     },
     "execution_count": 8,
     "metadata": {},
     "output_type": "execute_result"
    },
    {
     "data": {
      "image/png": "[encoded data removed]",
      "text/plain": [
       "<matplotlib.figure.Figure at 0x1288fdeffd0>"
      ]
     },
     "metadata": {},
     "output_type": "display_data"
    }
   ],
   "source": [
    "import pandas as pd\n",
    "df = pd.DataFrame(gesture_count).T\n",
    "df.plot(kind='bar', stacked=True, legend=False, figsize=(20, 8), title=\"Class distribution across users\")\n",
    "plt.legend(loc='center left', bbox_to_anchor=(1, 0.5))"
   ]
  },
  {
   "cell_type": "code",
   "execution_count": 9,
   "metadata": {},
   "outputs": [
    {
     "name": "stdout",
     "output_type": "stream",
     "text": [
      "\n",
      "User:  1\n",
      "Training:  (1188, 70, 32, 1)\n",
      "Testing:  (58, 70, 32, 1)\n",
      "Fold: 0\n"
     ]
    },
    {
     "ename": "ValueError",
     "evalue": "all the input array dimensions except for the concatenation axis must match exactly",
     "output_type": "error",
     "traceback": [
      "\u001b[1;31m---------------------------------------------------------------------------\u001b[0m",
      "\u001b[1;31mValueError\u001b[0m                                Traceback (most recent call last)",
      "\u001b[1;32m<ipython-input-9-c09d05e8e07a>\u001b[0m in \u001b[0;36m<module>\u001b[1;34m()\u001b[0m\n\u001b[0;32m     24\u001b[0m         \u001b[1;31m# Add additional training data to the original\u001b[0m\u001b[1;33m\u001b[0m\u001b[1;33m\u001b[0m\u001b[0m\n\u001b[0;32m     25\u001b[0m         \u001b[0mx_train\u001b[0m \u001b[1;33m=\u001b[0m \u001b[0mnp\u001b[0m\u001b[1;33m.\u001b[0m\u001b[0mvstack\u001b[0m\u001b[1;33m(\u001b[0m\u001b[1;33m(\u001b[0m\u001b[0mx_train\u001b[0m\u001b[1;33m,\u001b[0m \u001b[0mx_add\u001b[0m\u001b[1;33m)\u001b[0m\u001b[1;33m)\u001b[0m\u001b[1;33m\u001b[0m\u001b[0m\n\u001b[1;32m---> 26\u001b[1;33m         \u001b[0my_train\u001b[0m \u001b[1;33m=\u001b[0m \u001b[0mnp\u001b[0m\u001b[1;33m.\u001b[0m\u001b[0mvstack\u001b[0m\u001b[1;33m(\u001b[0m\u001b[1;33m(\u001b[0m\u001b[0my_train\u001b[0m\u001b[1;33m,\u001b[0m \u001b[0my_add\u001b[0m\u001b[1;33m)\u001b[0m\u001b[1;33m)\u001b[0m\u001b[1;33m\u001b[0m\u001b[0m\n\u001b[0m\u001b[0;32m     27\u001b[0m \u001b[1;33m\u001b[0m\u001b[0m\n\u001b[0;32m     28\u001b[0m         \u001b[0msort_idx\u001b[0m \u001b[1;33m=\u001b[0m \u001b[0mnp\u001b[0m\u001b[1;33m.\u001b[0m\u001b[0margsort\u001b[0m\u001b[1;33m(\u001b[0m\u001b[0my_test_new\u001b[0m\u001b[1;33m.\u001b[0m\u001b[0mreshape\u001b[0m\u001b[1;33m(\u001b[0m\u001b[1;33m-\u001b[0m\u001b[1;36m1\u001b[0m\u001b[1;33m)\u001b[0m\u001b[1;33m)\u001b[0m\u001b[1;33m\u001b[0m\u001b[0m\n",
      "\u001b[1;32mD:\\Anaconda\\envs\\ml_env\\lib\\site-packages\\numpy\\core\\shape_base.py\u001b[0m in \u001b[0;36mvstack\u001b[1;34m(tup)\u001b[0m\n\u001b[0;32m    235\u001b[0m \u001b[1;33m\u001b[0m\u001b[0m\n\u001b[0;32m    236\u001b[0m     \"\"\"\n\u001b[1;32m--> 237\u001b[1;33m     \u001b[1;32mreturn\u001b[0m \u001b[0m_nx\u001b[0m\u001b[1;33m.\u001b[0m\u001b[0mconcatenate\u001b[0m\u001b[1;33m(\u001b[0m\u001b[1;33m[\u001b[0m\u001b[0matleast_2d\u001b[0m\u001b[1;33m(\u001b[0m\u001b[0m_m\u001b[0m\u001b[1;33m)\u001b[0m \u001b[1;32mfor\u001b[0m \u001b[0m_m\u001b[0m \u001b[1;32min\u001b[0m \u001b[0mtup\u001b[0m\u001b[1;33m]\u001b[0m\u001b[1;33m,\u001b[0m \u001b[1;36m0\u001b[0m\u001b[1;33m)\u001b[0m\u001b[1;33m\u001b[0m\u001b[0m\n\u001b[0m\u001b[0;32m    238\u001b[0m \u001b[1;33m\u001b[0m\u001b[0m\n\u001b[0;32m    239\u001b[0m \u001b[1;32mdef\u001b[0m \u001b[0mhstack\u001b[0m\u001b[1;33m(\u001b[0m\u001b[0mtup\u001b[0m\u001b[1;33m)\u001b[0m\u001b[1;33m:\u001b[0m\u001b[1;33m\u001b[0m\u001b[0m\n",
      "\u001b[1;31mValueError\u001b[0m: all the input array dimensions except for the concatenation axis must match exactly"
     ]
    }
   ],
   "source": [
    "from sklearn.model_selection import LeaveOneGroupOut, StratifiedShuffleSplit\n",
    "\n",
    "def strat_shuffle_split(x, y, split=0.3, random_state=12345):\n",
    "    cv_obj = StratifiedShuffleSplit(n_splits=1, test_size=split, random_state=random_state)\n",
    "    for train_idx, test_idx in cv_obj.split(x, y):\n",
    "        x_add_train, y_add_train = x[train_idx, :, :, :], y[train_idx]\n",
    "        x_test, y_test = x[test_idx, :, :, :], y[test_idx]\n",
    "\n",
    "    return x_add_train, x_test, y_add_train, y_test\n",
    "\n",
    "logo = LeaveOneGroupOut()\n",
    "for train_idx, test_idx in logo.split(x, y, user):\n",
    "    print(\"\\nUser: \", user[test_idx[0]])\n",
    "    x_train, y_train = x[train_idx, :, :, :], y[train_idx]\n",
    "    x_test, y_test = x[test_idx, :, :, :], y[test_idx]\n",
    "    print(\"Training: \", x_train.shape)\n",
    "    print(\"Testing: \", x_test.shape)\n",
    "    for j in range(2):\n",
    "        print(\"Fold:\", j)\n",
    "        seed_gen = j * 200\n",
    "        # Split user test data - 60% added to the training data set\n",
    "        x_add, x_test_new, y_add, y_test_new = strat_shuffle_split(x_test, y_test, split=0.4, random_state=seed_gen)\n",
    "        \n",
    "        # Add additional training data to the original\n",
    "        x_train = np.vstack((x_train, x_add))\n",
    "        y_train = np.vstack((y_train, y_add))\n",
    "        \n",
    "        sort_idx = np.argsort(y_test_new.reshape(-1))\n",
    "        x_test_new = x_test_new[sort_idx, :, :, :]\n",
    "        y_test_new = y_test_new[sort_idx]\n",
    "        \n",
    "        print(\"New Training: \", x_train.shape)\n",
    "        print(\"New Testing: \", x_test_new.shape)"
   ]
  },
  {
   "cell_type": "code",
   "execution_count": null,
   "metadata": {
    "collapsed": true
   },
   "outputs": [],
   "source": []
  }
 ],
 "metadata": {
  "kernelspec": {
   "display_name": "Python 3",
   "language": "python",
   "name": "python3"
  },
  "language_info": {
   "codemirror_mode": {
    "name": "ipython",
    "version": 3
   },
   "file_extension": ".py",
   "mimetype": "text/x-python",
   "name": "python",
   "nbconvert_exporter": "python",
   "pygments_lexer": "ipython3",
   "version": "3.5.2"
  },
  "toc": {
   "colors": {
    "hover_highlight": "#DAA520",
    "running_highlight": "#FF0000",
    "selected_highlight": "#FFD700"
   },
   "moveMenuLeft": true,
   "nav_menu": {
    "height": "12px",
    "width": "252px"
   },
   "navigate_menu": true,
   "number_sections": true,
   "sideBar": true,
   "threshold": 4,
   "toc_cell": false,
   "toc_section_display": "block",
   "toc_window_display": false
  }
 },
 "nbformat": 4,
 "nbformat_minor": 2
}
